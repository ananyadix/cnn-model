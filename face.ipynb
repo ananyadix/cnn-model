{
 "cells": [
  {
   "cell_type": "code",
   "execution_count": 1,
   "metadata": {},
   "outputs": [
    {
     "name": "stdout",
     "output_type": "stream",
     "text": [
      "WARNING:tensorflow:From C:\\Users\\MY HP\\AppData\\Local\\Packages\\PythonSoftwareFoundation.Python.3.11_qbz5n2kfra8p0\\LocalCache\\local-packages\\Python311\\site-packages\\keras\\src\\losses.py:2976: The name tf.losses.sparse_softmax_cross_entropy is deprecated. Please use tf.compat.v1.losses.sparse_softmax_cross_entropy instead.\n",
      "\n"
     ]
    }
   ],
   "source": [
    "import keras\n",
    "from keras.models import Sequential\n",
    "from keras.layers import Conv2D, MaxPooling2D, Dense, Flatten, Dropout\n",
    "from keras.optimizers import Adam\n",
    "from keras.callbacks import TensorBoard\n",
    "import numpy as np\n",
    "import pandas as pd\n",
    "import matplotlib.pyplot as plt\n",
    "from sklearn.model_selection import train_test_split\n",
    "from sklearn.metrics import confusion_matrix\n",
    "from sklearn.metrics import classification_report\n",
    "from sklearn.metrics import roc_curve, auc\n",
    "from sklearn.metrics import accuracy_score\n",
    "import itertools"
   ]
  },
  {
   "cell_type": "code",
   "execution_count": 2,
   "metadata": {},
   "outputs": [
    {
     "name": "stdout",
     "output_type": "stream",
     "text": [
      "x_train : [[0.1882353  0.19215687 0.1764706  ... 0.18431373 0.18039216 0.18039216]\n",
      " [0.23529412 0.23529412 0.24313726 ... 0.1254902  0.13333334 0.13333334]\n",
      " [0.15294118 0.17254902 0.20784314 ... 0.11372549 0.10196079 0.11372549]\n",
      " ...\n",
      " [0.44705883 0.45882353 0.44705883 ... 0.38431373 0.3764706  0.38431373]\n",
      " [0.4117647  0.4117647  0.41960785 ... 0.21176471 0.18431373 0.16078432]\n",
      " [0.45490196 0.44705883 0.45882353 ... 0.37254903 0.39215687 0.39607844]]\n",
      "Y-train shape: [ 0  0  0  0  0  0  0  0  0  0  0  0  1  1  1  1  1  1  1  1  1  1  1  1\n",
      "  2  2  2  2  2  2  2  2  2  2  2  2  3  3  3  3  3  3  3  3  3  3  3  3\n",
      "  4  4  4  4  4  4  4  4  4  4  4  4  5  5  5  5  5  5  5  5  5  5  5  5\n",
      "  6  6  6  6  6  6  6  6  6  6  6  6  7  7  7  7  7  7  7  7  7  7  7  7\n",
      "  8  8  8  8  8  8  8  8  8  8  8  8  9  9  9  9  9  9  9  9  9  9  9  9\n",
      " 10 10 10 10 10 10 10 10 10 10 10 10 11 11 11 11 11 11 11 11 11 11 11 11\n",
      " 12 12 12 12 12 12 12 12 12 12 12 12 13 13 13 13 13 13 13 13 13 13 13 13\n",
      " 14 14 14 14 14 14 14 14 14 14 14 14 15 15 15 15 15 15 15 15 15 15 15 15\n",
      " 16 16 16 16 16 16 16 16 16 16 16 16 17 17 17 17 17 17 17 17 17 17 17 17\n",
      " 18 18 18 18 18 18 18 18 18 18 18 18 19 19 19 19 19 19 19 19 19 19 19 19]\n",
      "x_test shape: (160, 10304)\n"
     ]
    }
   ],
   "source": [
    "data = np.load('C:\\\\face_new\\\\ORL_faces.npz') \n",
    "x_train = data['trainX']\n",
    "x_train = np.array(x_train,dtype='float32')/255\n",
    "x_test = data['testX']\n",
    "x_test = np.array(x_test,dtype='float32')/255\n",
    "y_train= data['trainY']\n",
    "y_test= data['testY']\n",
    "print('x_train : {}'.format(x_train[:]))\n",
    "print('Y-train shape: {}'.format(y_train))\n",
    "print('x_test shape: {}'.format(x_test.shape))"
   ]
  },
  {
   "cell_type": "code",
   "execution_count": 3,
   "metadata": {},
   "outputs": [],
   "source": [
    "x_train, x_valid, y_train, y_valid= train_test_split(x_train, y_train, test_size=.05, random_state=1234,)"
   ]
  },
  {
   "cell_type": "code",
   "execution_count": 4,
   "metadata": {},
   "outputs": [
    {
     "name": "stdout",
     "output_type": "stream",
     "text": [
      "x_train shape: 228\n",
      "x_test shape: (160,)\n"
     ]
    }
   ],
   "source": [
    "img_rows=112\n",
    "img_cols=92\n",
    "batch_size=512\n",
    "img_shape=(img_rows, img_cols, 1)\n",
    "x_train = x_train.reshape(x_train.shape[0], *img_shape)\n",
    "x_test = x_test.reshape(x_test.shape[0], *img_shape)\n",
    "x_valid = x_valid.reshape(x_valid.shape[0], *img_shape)\n",
    "print('x_train shape: {}'.format(y_train.shape[0]))\n",
    "print('x_test shape: {}'.format(y_test.shape))"
   ]
  },
  {
   "cell_type": "code",
   "execution_count": 6,
   "metadata": {},
   "outputs": [
    {
     "name": "stdout",
     "output_type": "stream",
     "text": [
      "WARNING:tensorflow:From C:\\Users\\MY HP\\AppData\\Local\\Packages\\PythonSoftwareFoundation.Python.3.11_qbz5n2kfra8p0\\LocalCache\\local-packages\\Python311\\site-packages\\keras\\src\\backend.py:873: The name tf.get_default_graph is deprecated. Please use tf.compat.v1.get_default_graph instead.\n",
      "\n",
      "WARNING:tensorflow:From C:\\Users\\MY HP\\AppData\\Local\\Packages\\PythonSoftwareFoundation.Python.3.11_qbz5n2kfra8p0\\LocalCache\\local-packages\\Python311\\site-packages\\keras\\src\\layers\\pooling\\max_pooling2d.py:161: The name tf.nn.max_pool is deprecated. Please use tf.nn.max_pool2d instead.\n",
      "\n"
     ]
    },
    {
     "name": "stderr",
     "output_type": "stream",
     "text": [
      "WARNING:absl:`lr` is deprecated in Keras optimizer, please use `learning_rate` or use the legacy optimizer, e.g.,tf.keras.optimizers.legacy.Adam.\n"
     ]
    }
   ],
   "source": [
    "cnn_model= Sequential([\n",
    "    Conv2D(filters=36, kernel_size=7, activation='relu', input_shape= img_shape),\n",
    "    MaxPooling2D(pool_size=2),\n",
    "    Conv2D(filters=54, kernel_size=5, activation='relu', input_shape= img_shape),\n",
    "    MaxPooling2D(pool_size=2),\n",
    "    Flatten(),\n",
    "    Dense(2024, activation='relu'),\n",
    "     Dropout(0.5),\n",
    "    Dense(1024, activation='relu'),\n",
    "    Dropout(0.5),\n",
    "    Dense(512, activation='relu'),\n",
    "    Dropout(0.5),\n",
    "    #20 is the number of outputs\n",
    "    Dense(20, activation='softmax')  \n",
    "])\n",
    "\n",
    "cnn_model.compile(\n",
    "    loss='sparse_categorical_crossentropy',#'categorical_crossentropy',\n",
    "    optimizer=Adam(lr=0.0001),\n",
    "    metrics=['accuracy']\n",
    ")"
   ]
  },
  {
   "cell_type": "code",
   "execution_count": 7,
   "metadata": {},
   "outputs": [
    {
     "name": "stdout",
     "output_type": "stream",
     "text": [
      "Model: \"sequential\"\n",
      "_________________________________________________________________\n",
      " Layer (type)                Output Shape              Param #   \n",
      "=================================================================\n",
      " conv2d (Conv2D)             (None, 106, 86, 36)       1800      \n",
      "                                                                 \n",
      " max_pooling2d (MaxPooling2  (None, 53, 43, 36)        0         \n",
      " D)                                                              \n",
      "                                                                 \n",
      " conv2d_1 (Conv2D)           (None, 49, 39, 54)        48654     \n",
      "                                                                 \n",
      " max_pooling2d_1 (MaxPoolin  (None, 24, 19, 54)        0         \n",
      " g2D)                                                            \n",
      "                                                                 \n",
      " flatten (Flatten)           (None, 24624)             0         \n",
      "                                                                 \n",
      " dense (Dense)               (None, 2024)              49841000  \n",
      "                                                                 \n",
      " dropout (Dropout)           (None, 2024)              0         \n",
      "                                                                 \n",
      " dense_1 (Dense)             (None, 1024)              2073600   \n",
      "                                                                 \n",
      " dropout_1 (Dropout)         (None, 1024)              0         \n",
      "                                                                 \n",
      " dense_2 (Dense)             (None, 512)               524800    \n",
      "                                                                 \n",
      " dropout_2 (Dropout)         (None, 512)               0         \n",
      "                                                                 \n",
      " dense_3 (Dense)             (None, 20)                10260     \n",
      "                                                                 \n",
      "=================================================================\n",
      "Total params: 52500114 (200.27 MB)\n",
      "Trainable params: 52500114 (200.27 MB)\n",
      "Non-trainable params: 0 (0.00 Byte)\n",
      "_________________________________________________________________\n"
     ]
    }
   ],
   "source": [
    "cnn_model.summary()"
   ]
  },
  {
   "cell_type": "code",
   "execution_count": 8,
   "metadata": {},
   "outputs": [
    {
     "name": "stdout",
     "output_type": "stream",
     "text": [
      "Epoch 1/250\n",
      "WARNING:tensorflow:From C:\\Users\\MY HP\\AppData\\Local\\Packages\\PythonSoftwareFoundation.Python.3.11_qbz5n2kfra8p0\\LocalCache\\local-packages\\Python311\\site-packages\\keras\\src\\utils\\tf_utils.py:492: The name tf.ragged.RaggedTensorValue is deprecated. Please use tf.compat.v1.ragged.RaggedTensorValue instead.\n",
      "\n"
     ]
    },
    {
     "name": "stderr",
     "output_type": "stream",
     "text": [
      "WARNING:tensorflow:From C:\\Users\\MY HP\\AppData\\Local\\Packages\\PythonSoftwareFoundation.Python.3.11_qbz5n2kfra8p0\\LocalCache\\local-packages\\Python311\\site-packages\\keras\\src\\utils\\tf_utils.py:492: The name tf.ragged.RaggedTensorValue is deprecated. Please use tf.compat.v1.ragged.RaggedTensorValue instead.\n",
      "\n"
     ]
    },
    {
     "name": "stdout",
     "output_type": "stream",
     "text": [
      "WARNING:tensorflow:From C:\\Users\\MY HP\\AppData\\Local\\Packages\\PythonSoftwareFoundation.Python.3.11_qbz5n2kfra8p0\\LocalCache\\local-packages\\Python311\\site-packages\\keras\\src\\engine\\base_layer_utils.py:384: The name tf.executing_eagerly_outside_functions is deprecated. Please use tf.compat.v1.executing_eagerly_outside_functions instead.\n",
      "\n"
     ]
    },
    {
     "name": "stderr",
     "output_type": "stream",
     "text": [
      "WARNING:tensorflow:From C:\\Users\\MY HP\\AppData\\Local\\Packages\\PythonSoftwareFoundation.Python.3.11_qbz5n2kfra8p0\\LocalCache\\local-packages\\Python311\\site-packages\\keras\\src\\engine\\base_layer_utils.py:384: The name tf.executing_eagerly_outside_functions is deprecated. Please use tf.compat.v1.executing_eagerly_outside_functions instead.\n",
      "\n"
     ]
    },
    {
     "name": "stdout",
     "output_type": "stream",
     "text": [
      "1/1 - 5s - loss: 3.0258 - accuracy: 0.0395 - val_loss: 3.4243 - val_accuracy: 0.0000e+00 - 5s/epoch - 5s/step\n",
      "Epoch 2/250\n",
      "1/1 - 2s - loss: 3.8647 - accuracy: 0.0570 - val_loss: 2.9402 - val_accuracy: 0.0000e+00 - 2s/epoch - 2s/step\n",
      "Epoch 3/250\n",
      "1/1 - 2s - loss: 3.2442 - accuracy: 0.0614 - val_loss: 2.9772 - val_accuracy: 0.0000e+00 - 2s/epoch - 2s/step\n",
      "Epoch 4/250\n",
      "1/1 - 2s - loss: 3.0247 - accuracy: 0.0658 - val_loss: 2.9943 - val_accuracy: 0.0000e+00 - 2s/epoch - 2s/step\n",
      "Epoch 5/250\n",
      "1/1 - 2s - loss: 2.9921 - accuracy: 0.0877 - val_loss: 2.9950 - val_accuracy: 0.0000e+00 - 2s/epoch - 2s/step\n",
      "Epoch 6/250\n",
      "1/1 - 2s - loss: 2.9915 - accuracy: 0.0833 - val_loss: 2.9954 - val_accuracy: 0.0000e+00 - 2s/epoch - 2s/step\n",
      "Epoch 7/250\n",
      "1/1 - 2s - loss: 2.9882 - accuracy: 0.0789 - val_loss: 2.9939 - val_accuracy: 0.0833 - 2s/epoch - 2s/step\n",
      "Epoch 8/250\n",
      "1/1 - 2s - loss: 2.9789 - accuracy: 0.1184 - val_loss: 2.9925 - val_accuracy: 0.0833 - 2s/epoch - 2s/step\n",
      "Epoch 9/250\n",
      "1/1 - 2s - loss: 2.9692 - accuracy: 0.0702 - val_loss: 2.9966 - val_accuracy: 0.0833 - 2s/epoch - 2s/step\n",
      "Epoch 10/250\n",
      "1/1 - 2s - loss: 2.9681 - accuracy: 0.0877 - val_loss: 3.0013 - val_accuracy: 0.0833 - 2s/epoch - 2s/step\n",
      "Epoch 11/250\n",
      "1/1 - 2s - loss: 2.9767 - accuracy: 0.0746 - val_loss: 2.9857 - val_accuracy: 0.0833 - 2s/epoch - 2s/step\n",
      "Epoch 12/250\n",
      "1/1 - 2s - loss: 2.9439 - accuracy: 0.1228 - val_loss: 2.9815 - val_accuracy: 0.0833 - 2s/epoch - 2s/step\n",
      "Epoch 13/250\n",
      "1/1 - 2s - loss: 2.9414 - accuracy: 0.1228 - val_loss: 2.9837 - val_accuracy: 0.0000e+00 - 2s/epoch - 2s/step\n",
      "Epoch 14/250\n",
      "1/1 - 2s - loss: 2.9028 - accuracy: 0.1316 - val_loss: 3.0111 - val_accuracy: 0.0000e+00 - 2s/epoch - 2s/step\n",
      "Epoch 15/250\n",
      "1/1 - 2s - loss: 2.8742 - accuracy: 0.1535 - val_loss: 2.9654 - val_accuracy: 0.0833 - 2s/epoch - 2s/step\n",
      "Epoch 16/250\n",
      "1/1 - 2s - loss: 2.8587 - accuracy: 0.1184 - val_loss: 2.8927 - val_accuracy: 0.0833 - 2s/epoch - 2s/step\n",
      "Epoch 17/250\n",
      "1/1 - 2s - loss: 2.8046 - accuracy: 0.1754 - val_loss: 2.8466 - val_accuracy: 0.1667 - 2s/epoch - 2s/step\n",
      "Epoch 18/250\n",
      "1/1 - 2s - loss: 2.7226 - accuracy: 0.2281 - val_loss: 2.7683 - val_accuracy: 0.1667 - 2s/epoch - 2s/step\n",
      "Epoch 19/250\n",
      "1/1 - 2s - loss: 2.6691 - accuracy: 0.2061 - val_loss: 2.6206 - val_accuracy: 0.1667 - 2s/epoch - 2s/step\n",
      "Epoch 20/250\n",
      "1/1 - 2s - loss: 2.4811 - accuracy: 0.2939 - val_loss: 2.4568 - val_accuracy: 0.2500 - 2s/epoch - 2s/step\n",
      "Epoch 21/250\n",
      "1/1 - 2s - loss: 2.3272 - accuracy: 0.3026 - val_loss: 2.2725 - val_accuracy: 0.2500 - 2s/epoch - 2s/step\n",
      "Epoch 22/250\n",
      "1/1 - 2s - loss: 2.2070 - accuracy: 0.3816 - val_loss: 2.0921 - val_accuracy: 0.3333 - 2s/epoch - 2s/step\n",
      "Epoch 23/250\n",
      "1/1 - 2s - loss: 2.0352 - accuracy: 0.3421 - val_loss: 1.8821 - val_accuracy: 0.5000 - 2s/epoch - 2s/step\n",
      "Epoch 24/250\n",
      "1/1 - 2s - loss: 1.8264 - accuracy: 0.4298 - val_loss: 1.6657 - val_accuracy: 0.5833 - 2s/epoch - 2s/step\n",
      "Epoch 25/250\n",
      "1/1 - 2s - loss: 1.6846 - accuracy: 0.4605 - val_loss: 1.4141 - val_accuracy: 0.5833 - 2s/epoch - 2s/step\n",
      "Epoch 26/250\n",
      "1/1 - 2s - loss: 1.4845 - accuracy: 0.5351 - val_loss: 1.3167 - val_accuracy: 0.6667 - 2s/epoch - 2s/step\n",
      "Epoch 27/250\n",
      "1/1 - 2s - loss: 1.3605 - accuracy: 0.5833 - val_loss: 1.1403 - val_accuracy: 0.7500 - 2s/epoch - 2s/step\n",
      "Epoch 28/250\n",
      "1/1 - 3s - loss: 1.1861 - accuracy: 0.6228 - val_loss: 0.8900 - val_accuracy: 0.8333 - 3s/epoch - 3s/step\n",
      "Epoch 29/250\n",
      "1/1 - 3s - loss: 1.0280 - accuracy: 0.6535 - val_loss: 0.6921 - val_accuracy: 0.9167 - 3s/epoch - 3s/step\n",
      "Epoch 30/250\n",
      "1/1 - 3s - loss: 1.0038 - accuracy: 0.6316 - val_loss: 0.5869 - val_accuracy: 0.9167 - 3s/epoch - 3s/step\n",
      "Epoch 31/250\n",
      "1/1 - 2s - loss: 0.8021 - accuracy: 0.7368 - val_loss: 0.5103 - val_accuracy: 0.9167 - 2s/epoch - 2s/step\n",
      "Epoch 32/250\n",
      "1/1 - 2s - loss: 0.7058 - accuracy: 0.7456 - val_loss: 0.4686 - val_accuracy: 0.9167 - 2s/epoch - 2s/step\n",
      "Epoch 33/250\n",
      "1/1 - 2s - loss: 0.6312 - accuracy: 0.8114 - val_loss: 0.2996 - val_accuracy: 1.0000 - 2s/epoch - 2s/step\n",
      "Epoch 34/250\n",
      "1/1 - 2s - loss: 0.4914 - accuracy: 0.8596 - val_loss: 0.1905 - val_accuracy: 1.0000 - 2s/epoch - 2s/step\n",
      "Epoch 35/250\n",
      "1/1 - 2s - loss: 0.4707 - accuracy: 0.8465 - val_loss: 0.1795 - val_accuracy: 0.9167 - 2s/epoch - 2s/step\n",
      "Epoch 36/250\n",
      "1/1 - 2s - loss: 0.3824 - accuracy: 0.8728 - val_loss: 0.1637 - val_accuracy: 0.9167 - 2s/epoch - 2s/step\n",
      "Epoch 37/250\n",
      "1/1 - 2s - loss: 0.3037 - accuracy: 0.9035 - val_loss: 0.0876 - val_accuracy: 1.0000 - 2s/epoch - 2s/step\n",
      "Epoch 38/250\n",
      "1/1 - 3s - loss: 0.3235 - accuracy: 0.8947 - val_loss: 0.1196 - val_accuracy: 1.0000 - 3s/epoch - 3s/step\n",
      "Epoch 39/250\n",
      "1/1 - 2s - loss: 0.2441 - accuracy: 0.9254 - val_loss: 0.1726 - val_accuracy: 0.9167 - 2s/epoch - 2s/step\n",
      "Epoch 40/250\n",
      "1/1 - 2s - loss: 0.1895 - accuracy: 0.9518 - val_loss: 0.1061 - val_accuracy: 1.0000 - 2s/epoch - 2s/step\n",
      "Epoch 41/250\n",
      "1/1 - 2s - loss: 0.1589 - accuracy: 0.9518 - val_loss: 0.0868 - val_accuracy: 1.0000 - 2s/epoch - 2s/step\n",
      "Epoch 42/250\n",
      "1/1 - 2s - loss: 0.1782 - accuracy: 0.9430 - val_loss: 0.0813 - val_accuracy: 1.0000 - 2s/epoch - 2s/step\n",
      "Epoch 43/250\n",
      "1/1 - 2s - loss: 0.0870 - accuracy: 0.9693 - val_loss: 0.0878 - val_accuracy: 1.0000 - 2s/epoch - 2s/step\n",
      "Epoch 44/250\n",
      "1/1 - 2s - loss: 0.1262 - accuracy: 0.9561 - val_loss: 0.0410 - val_accuracy: 1.0000 - 2s/epoch - 2s/step\n",
      "Epoch 45/250\n",
      "1/1 - 2s - loss: 0.0778 - accuracy: 0.9781 - val_loss: 0.0122 - val_accuracy: 1.0000 - 2s/epoch - 2s/step\n",
      "Epoch 46/250\n",
      "1/1 - 2s - loss: 0.0767 - accuracy: 0.9825 - val_loss: 0.0072 - val_accuracy: 1.0000 - 2s/epoch - 2s/step\n",
      "Epoch 47/250\n",
      "1/1 - 2s - loss: 0.0646 - accuracy: 0.9781 - val_loss: 0.0146 - val_accuracy: 1.0000 - 2s/epoch - 2s/step\n",
      "Epoch 48/250\n",
      "1/1 - 2s - loss: 0.0691 - accuracy: 0.9781 - val_loss: 0.0274 - val_accuracy: 1.0000 - 2s/epoch - 2s/step\n",
      "Epoch 49/250\n",
      "1/1 - 2s - loss: 0.0225 - accuracy: 0.9956 - val_loss: 0.0206 - val_accuracy: 1.0000 - 2s/epoch - 2s/step\n",
      "Epoch 50/250\n",
      "1/1 - 2s - loss: 0.0211 - accuracy: 0.9956 - val_loss: 0.0131 - val_accuracy: 1.0000 - 2s/epoch - 2s/step\n",
      "Epoch 51/250\n",
      "1/1 - 2s - loss: 0.0308 - accuracy: 0.9912 - val_loss: 0.0051 - val_accuracy: 1.0000 - 2s/epoch - 2s/step\n",
      "Epoch 52/250\n",
      "1/1 - 2s - loss: 0.0454 - accuracy: 0.9868 - val_loss: 0.0032 - val_accuracy: 1.0000 - 2s/epoch - 2s/step\n",
      "Epoch 53/250\n",
      "1/1 - 2s - loss: 0.0423 - accuracy: 0.9825 - val_loss: 0.0040 - val_accuracy: 1.0000 - 2s/epoch - 2s/step\n",
      "Epoch 54/250\n",
      "1/1 - 2s - loss: 0.0126 - accuracy: 1.0000 - val_loss: 0.0061 - val_accuracy: 1.0000 - 2s/epoch - 2s/step\n",
      "Epoch 55/250\n",
      "1/1 - 2s - loss: 0.0504 - accuracy: 0.9693 - val_loss: 0.0087 - val_accuracy: 1.0000 - 2s/epoch - 2s/step\n",
      "Epoch 56/250\n",
      "1/1 - 2s - loss: 0.0371 - accuracy: 0.9956 - val_loss: 0.0088 - val_accuracy: 1.0000 - 2s/epoch - 2s/step\n",
      "Epoch 57/250\n",
      "1/1 - 2s - loss: 0.0110 - accuracy: 1.0000 - val_loss: 0.0077 - val_accuracy: 1.0000 - 2s/epoch - 2s/step\n",
      "Epoch 58/250\n",
      "1/1 - 2s - loss: 0.0167 - accuracy: 0.9956 - val_loss: 0.0059 - val_accuracy: 1.0000 - 2s/epoch - 2s/step\n",
      "Epoch 59/250\n",
      "1/1 - 2s - loss: 0.0162 - accuracy: 0.9956 - val_loss: 0.0051 - val_accuracy: 1.0000 - 2s/epoch - 2s/step\n",
      "Epoch 60/250\n",
      "1/1 - 2s - loss: 0.0128 - accuracy: 1.0000 - val_loss: 0.0029 - val_accuracy: 1.0000 - 2s/epoch - 2s/step\n",
      "Epoch 61/250\n",
      "1/1 - 3s - loss: 0.0148 - accuracy: 0.9956 - val_loss: 0.0014 - val_accuracy: 1.0000 - 3s/epoch - 3s/step\n",
      "Epoch 62/250\n",
      "1/1 - 2s - loss: 0.0383 - accuracy: 0.9912 - val_loss: 0.0010 - val_accuracy: 1.0000 - 2s/epoch - 2s/step\n",
      "Epoch 63/250\n",
      "1/1 - 2s - loss: 0.0087 - accuracy: 1.0000 - val_loss: 6.2779e-04 - val_accuracy: 1.0000 - 2s/epoch - 2s/step\n",
      "Epoch 64/250\n",
      "1/1 - 2s - loss: 0.0091 - accuracy: 1.0000 - val_loss: 2.8771e-04 - val_accuracy: 1.0000 - 2s/epoch - 2s/step\n",
      "Epoch 65/250\n",
      "1/1 - 2s - loss: 0.0140 - accuracy: 0.9956 - val_loss: 2.9262e-04 - val_accuracy: 1.0000 - 2s/epoch - 2s/step\n",
      "Epoch 66/250\n",
      "1/1 - 2s - loss: 0.0038 - accuracy: 1.0000 - val_loss: 3.7443e-04 - val_accuracy: 1.0000 - 2s/epoch - 2s/step\n",
      "Epoch 67/250\n",
      "1/1 - 2s - loss: 0.0071 - accuracy: 0.9956 - val_loss: 6.7247e-04 - val_accuracy: 1.0000 - 2s/epoch - 2s/step\n",
      "Epoch 68/250\n",
      "1/1 - 3s - loss: 0.0056 - accuracy: 1.0000 - val_loss: 0.0012 - val_accuracy: 1.0000 - 3s/epoch - 3s/step\n",
      "Epoch 69/250\n",
      "1/1 - 3s - loss: 0.0030 - accuracy: 1.0000 - val_loss: 0.0020 - val_accuracy: 1.0000 - 3s/epoch - 3s/step\n",
      "Epoch 70/250\n",
      "1/1 - 2s - loss: 0.0070 - accuracy: 1.0000 - val_loss: 0.0019 - val_accuracy: 1.0000 - 2s/epoch - 2s/step\n",
      "Epoch 71/250\n",
      "1/1 - 2s - loss: 0.0125 - accuracy: 0.9956 - val_loss: 2.9686e-04 - val_accuracy: 1.0000 - 2s/epoch - 2s/step\n",
      "Epoch 72/250\n",
      "1/1 - 2s - loss: 0.0018 - accuracy: 1.0000 - val_loss: 6.7249e-05 - val_accuracy: 1.0000 - 2s/epoch - 2s/step\n",
      "Epoch 73/250\n",
      "1/1 - 2s - loss: 0.0044 - accuracy: 1.0000 - val_loss: 2.8499e-05 - val_accuracy: 1.0000 - 2s/epoch - 2s/step\n",
      "Epoch 74/250\n",
      "1/1 - 2s - loss: 0.0143 - accuracy: 0.9956 - val_loss: 2.9016e-05 - val_accuracy: 1.0000 - 2s/epoch - 2s/step\n",
      "Epoch 75/250\n",
      "1/1 - 3s - loss: 0.0052 - accuracy: 1.0000 - val_loss: 2.9522e-05 - val_accuracy: 1.0000 - 3s/epoch - 3s/step\n",
      "Epoch 76/250\n",
      "1/1 - 3s - loss: 0.0021 - accuracy: 1.0000 - val_loss: 2.7585e-05 - val_accuracy: 1.0000 - 3s/epoch - 3s/step\n",
      "Epoch 77/250\n",
      "1/1 - 3s - loss: 0.0020 - accuracy: 1.0000 - val_loss: 2.4536e-05 - val_accuracy: 1.0000 - 3s/epoch - 3s/step\n",
      "Epoch 78/250\n",
      "1/1 - 3s - loss: 0.0100 - accuracy: 0.9956 - val_loss: 2.6085e-05 - val_accuracy: 1.0000 - 3s/epoch - 3s/step\n",
      "Epoch 79/250\n",
      "1/1 - 4s - loss: 0.0017 - accuracy: 1.0000 - val_loss: 3.5560e-05 - val_accuracy: 1.0000 - 4s/epoch - 4s/step\n",
      "Epoch 80/250\n",
      "1/1 - 5s - loss: 0.0055 - accuracy: 1.0000 - val_loss: 4.1984e-05 - val_accuracy: 1.0000 - 5s/epoch - 5s/step\n",
      "Epoch 81/250\n",
      "1/1 - 5s - loss: 0.0048 - accuracy: 1.0000 - val_loss: 6.0423e-05 - val_accuracy: 1.0000 - 5s/epoch - 5s/step\n",
      "Epoch 82/250\n",
      "1/1 - 4s - loss: 0.0057 - accuracy: 1.0000 - val_loss: 7.7706e-05 - val_accuracy: 1.0000 - 4s/epoch - 4s/step\n",
      "Epoch 83/250\n",
      "1/1 - 3s - loss: 0.0011 - accuracy: 1.0000 - val_loss: 9.6504e-05 - val_accuracy: 1.0000 - 3s/epoch - 3s/step\n",
      "Epoch 84/250\n",
      "1/1 - 3s - loss: 0.0112 - accuracy: 0.9956 - val_loss: 6.6349e-05 - val_accuracy: 1.0000 - 3s/epoch - 3s/step\n",
      "Epoch 85/250\n",
      "1/1 - 3s - loss: 0.0039 - accuracy: 1.0000 - val_loss: 5.7057e-05 - val_accuracy: 1.0000 - 3s/epoch - 3s/step\n",
      "Epoch 86/250\n",
      "1/1 - 3s - loss: 0.0162 - accuracy: 0.9956 - val_loss: 3.3454e-05 - val_accuracy: 1.0000 - 3s/epoch - 3s/step\n",
      "Epoch 87/250\n",
      "1/1 - 3s - loss: 0.0071 - accuracy: 0.9956 - val_loss: 2.1288e-05 - val_accuracy: 1.0000 - 3s/epoch - 3s/step\n",
      "Epoch 88/250\n",
      "1/1 - 3s - loss: 0.0016 - accuracy: 1.0000 - val_loss: 1.8149e-05 - val_accuracy: 1.0000 - 3s/epoch - 3s/step\n",
      "Epoch 89/250\n",
      "1/1 - 3s - loss: 0.0016 - accuracy: 1.0000 - val_loss: 1.7325e-05 - val_accuracy: 1.0000 - 3s/epoch - 3s/step\n",
      "Epoch 90/250\n",
      "1/1 - 3s - loss: 0.0070 - accuracy: 0.9956 - val_loss: 1.3907e-05 - val_accuracy: 1.0000 - 3s/epoch - 3s/step\n",
      "Epoch 91/250\n",
      "1/1 - 3s - loss: 0.0045 - accuracy: 1.0000 - val_loss: 1.0411e-05 - val_accuracy: 1.0000 - 3s/epoch - 3s/step\n",
      "Epoch 92/250\n",
      "1/1 - 2s - loss: 0.0045 - accuracy: 1.0000 - val_loss: 1.2864e-05 - val_accuracy: 1.0000 - 2s/epoch - 2s/step\n",
      "Epoch 93/250\n",
      "1/1 - 2s - loss: 0.0016 - accuracy: 1.0000 - val_loss: 3.0465e-05 - val_accuracy: 1.0000 - 2s/epoch - 2s/step\n",
      "Epoch 94/250\n",
      "1/1 - 2s - loss: 0.0051 - accuracy: 1.0000 - val_loss: 6.7727e-05 - val_accuracy: 1.0000 - 2s/epoch - 2s/step\n",
      "Epoch 95/250\n",
      "1/1 - 2s - loss: 6.7888e-04 - accuracy: 1.0000 - val_loss: 1.5044e-04 - val_accuracy: 1.0000 - 2s/epoch - 2s/step\n",
      "Epoch 96/250\n",
      "1/1 - 3s - loss: 0.0016 - accuracy: 1.0000 - val_loss: 3.2256e-04 - val_accuracy: 1.0000 - 3s/epoch - 3s/step\n",
      "Epoch 97/250\n",
      "1/1 - 2s - loss: 0.0021 - accuracy: 1.0000 - val_loss: 5.5153e-04 - val_accuracy: 1.0000 - 2s/epoch - 2s/step\n",
      "Epoch 98/250\n",
      "1/1 - 2s - loss: 9.3941e-04 - accuracy: 1.0000 - val_loss: 8.5192e-04 - val_accuracy: 1.0000 - 2s/epoch - 2s/step\n",
      "Epoch 99/250\n",
      "1/1 - 2s - loss: 0.0014 - accuracy: 1.0000 - val_loss: 0.0012 - val_accuracy: 1.0000 - 2s/epoch - 2s/step\n",
      "Epoch 100/250\n",
      "1/1 - 2s - loss: 0.0031 - accuracy: 1.0000 - val_loss: 0.0011 - val_accuracy: 1.0000 - 2s/epoch - 2s/step\n",
      "Epoch 101/250\n",
      "1/1 - 2s - loss: 0.0040 - accuracy: 1.0000 - val_loss: 6.4768e-04 - val_accuracy: 1.0000 - 2s/epoch - 2s/step\n",
      "Epoch 102/250\n",
      "1/1 - 2s - loss: 0.0049 - accuracy: 1.0000 - val_loss: 2.0343e-04 - val_accuracy: 1.0000 - 2s/epoch - 2s/step\n",
      "Epoch 103/250\n",
      "1/1 - 2s - loss: 0.0015 - accuracy: 1.0000 - val_loss: 8.3963e-05 - val_accuracy: 1.0000 - 2s/epoch - 2s/step\n",
      "Epoch 104/250\n",
      "1/1 - 2s - loss: 0.0011 - accuracy: 1.0000 - val_loss: 4.2371e-05 - val_accuracy: 1.0000 - 2s/epoch - 2s/step\n",
      "Epoch 105/250\n",
      "1/1 - 2s - loss: 4.1351e-04 - accuracy: 1.0000 - val_loss: 2.4972e-05 - val_accuracy: 1.0000 - 2s/epoch - 2s/step\n",
      "Epoch 106/250\n",
      "1/1 - 2s - loss: 0.0064 - accuracy: 1.0000 - val_loss: 1.7612e-05 - val_accuracy: 1.0000 - 2s/epoch - 2s/step\n",
      "Epoch 107/250\n",
      "1/1 - 2s - loss: 0.0016 - accuracy: 1.0000 - val_loss: 1.1334e-05 - val_accuracy: 1.0000 - 2s/epoch - 2s/step\n",
      "Epoch 108/250\n",
      "1/1 - 2s - loss: 0.0015 - accuracy: 1.0000 - val_loss: 7.8775e-06 - val_accuracy: 1.0000 - 2s/epoch - 2s/step\n",
      "Epoch 109/250\n",
      "1/1 - 2s - loss: 0.0018 - accuracy: 1.0000 - val_loss: 6.0199e-06 - val_accuracy: 1.0000 - 2s/epoch - 2s/step\n",
      "Epoch 110/250\n",
      "1/1 - 2s - loss: 9.6003e-04 - accuracy: 1.0000 - val_loss: 5.4438e-06 - val_accuracy: 1.0000 - 2s/epoch - 2s/step\n",
      "Epoch 111/250\n",
      "1/1 - 2s - loss: 0.0032 - accuracy: 1.0000 - val_loss: 6.8643e-06 - val_accuracy: 1.0000 - 2s/epoch - 2s/step\n",
      "Epoch 112/250\n",
      "1/1 - 2s - loss: 4.2659e-04 - accuracy: 1.0000 - val_loss: 9.0993e-06 - val_accuracy: 1.0000 - 2s/epoch - 2s/step\n",
      "Epoch 113/250\n",
      "1/1 - 3s - loss: 0.0074 - accuracy: 0.9956 - val_loss: 1.1364e-05 - val_accuracy: 1.0000 - 3s/epoch - 3s/step\n",
      "Epoch 114/250\n",
      "1/1 - 2s - loss: 0.0059 - accuracy: 0.9956 - val_loss: 2.0502e-05 - val_accuracy: 1.0000 - 2s/epoch - 2s/step\n",
      "Epoch 115/250\n",
      "1/1 - 2s - loss: 0.0013 - accuracy: 1.0000 - val_loss: 3.9420e-05 - val_accuracy: 1.0000 - 2s/epoch - 2s/step\n",
      "Epoch 116/250\n",
      "1/1 - 2s - loss: 2.3302e-04 - accuracy: 1.0000 - val_loss: 7.3750e-05 - val_accuracy: 1.0000 - 2s/epoch - 2s/step\n",
      "Epoch 117/250\n",
      "1/1 - 3s - loss: 0.0025 - accuracy: 1.0000 - val_loss: 1.3158e-04 - val_accuracy: 1.0000 - 3s/epoch - 3s/step\n",
      "Epoch 118/250\n",
      "1/1 - 3s - loss: 0.0034 - accuracy: 1.0000 - val_loss: 1.9559e-04 - val_accuracy: 1.0000 - 3s/epoch - 3s/step\n",
      "Epoch 119/250\n",
      "1/1 - 3s - loss: 0.0085 - accuracy: 0.9956 - val_loss: 5.5921e-05 - val_accuracy: 1.0000 - 3s/epoch - 3s/step\n",
      "Epoch 120/250\n",
      "1/1 - 3s - loss: 6.9303e-04 - accuracy: 1.0000 - val_loss: 1.8267e-05 - val_accuracy: 1.0000 - 3s/epoch - 3s/step\n",
      "Epoch 121/250\n",
      "1/1 - 3s - loss: 0.0011 - accuracy: 1.0000 - val_loss: 6.9636e-06 - val_accuracy: 1.0000 - 3s/epoch - 3s/step\n",
      "Epoch 122/250\n",
      "1/1 - 3s - loss: 2.3071e-04 - accuracy: 1.0000 - val_loss: 3.3776e-06 - val_accuracy: 1.0000 - 3s/epoch - 3s/step\n",
      "Epoch 123/250\n",
      "1/1 - 3s - loss: 3.0030e-04 - accuracy: 1.0000 - val_loss: 1.9570e-06 - val_accuracy: 1.0000 - 3s/epoch - 3s/step\n",
      "Epoch 124/250\n",
      "1/1 - 3s - loss: 7.1185e-04 - accuracy: 1.0000 - val_loss: 1.4007e-06 - val_accuracy: 1.0000 - 3s/epoch - 3s/step\n",
      "Epoch 125/250\n",
      "1/1 - 4s - loss: 0.0038 - accuracy: 1.0000 - val_loss: 1.6888e-06 - val_accuracy: 1.0000 - 4s/epoch - 4s/step\n",
      "Epoch 126/250\n",
      "1/1 - 4s - loss: 4.6147e-04 - accuracy: 1.0000 - val_loss: 2.2352e-06 - val_accuracy: 1.0000 - 4s/epoch - 4s/step\n",
      "Epoch 127/250\n",
      "1/1 - 4s - loss: 0.0097 - accuracy: 0.9956 - val_loss: 2.3958e-05 - val_accuracy: 1.0000 - 4s/epoch - 4s/step\n",
      "Epoch 128/250\n",
      "1/1 - 4s - loss: 6.1908e-04 - accuracy: 1.0000 - val_loss: 2.9587e-04 - val_accuracy: 1.0000 - 4s/epoch - 4s/step\n",
      "Epoch 129/250\n",
      "1/1 - 5s - loss: 0.0010 - accuracy: 1.0000 - val_loss: 0.0019 - val_accuracy: 1.0000 - 5s/epoch - 5s/step\n",
      "Epoch 130/250\n",
      "1/1 - 6s - loss: 0.0016 - accuracy: 1.0000 - val_loss: 0.0048 - val_accuracy: 1.0000 - 6s/epoch - 6s/step\n",
      "Epoch 131/250\n",
      "1/1 - 6s - loss: 0.0021 - accuracy: 1.0000 - val_loss: 0.0033 - val_accuracy: 1.0000 - 6s/epoch - 6s/step\n",
      "Epoch 132/250\n",
      "1/1 - 6s - loss: 0.0051 - accuracy: 0.9956 - val_loss: 3.8713e-04 - val_accuracy: 1.0000 - 6s/epoch - 6s/step\n",
      "Epoch 133/250\n",
      "1/1 - 6s - loss: 8.3528e-04 - accuracy: 1.0000 - val_loss: 5.1722e-05 - val_accuracy: 1.0000 - 6s/epoch - 6s/step\n",
      "Epoch 134/250\n",
      "1/1 - 5s - loss: 0.0049 - accuracy: 0.9956 - val_loss: 4.3411e-06 - val_accuracy: 1.0000 - 5s/epoch - 5s/step\n",
      "Epoch 135/250\n",
      "1/1 - 3s - loss: 3.7580e-04 - accuracy: 1.0000 - val_loss: 1.2318e-06 - val_accuracy: 1.0000 - 3s/epoch - 3s/step\n",
      "Epoch 136/250\n",
      "1/1 - 4s - loss: 0.0042 - accuracy: 1.0000 - val_loss: 1.4702e-06 - val_accuracy: 1.0000 - 4s/epoch - 4s/step\n",
      "Epoch 137/250\n",
      "1/1 - 3s - loss: 8.5246e-04 - accuracy: 1.0000 - val_loss: 2.5232e-06 - val_accuracy: 1.0000 - 3s/epoch - 3s/step\n",
      "Epoch 138/250\n",
      "1/1 - 3s - loss: 0.0064 - accuracy: 0.9956 - val_loss: 1.9669e-06 - val_accuracy: 1.0000 - 3s/epoch - 3s/step\n",
      "Epoch 139/250\n",
      "1/1 - 3s - loss: 0.0094 - accuracy: 0.9956 - val_loss: 5.2749e-06 - val_accuracy: 1.0000 - 3s/epoch - 3s/step\n",
      "Epoch 140/250\n",
      "1/1 - 3s - loss: 8.1368e-04 - accuracy: 1.0000 - val_loss: 1.6571e-04 - val_accuracy: 1.0000 - 3s/epoch - 3s/step\n",
      "Epoch 141/250\n",
      "1/1 - 4s - loss: 0.0161 - accuracy: 0.9868 - val_loss: 0.0013 - val_accuracy: 1.0000 - 4s/epoch - 4s/step\n",
      "Epoch 142/250\n",
      "1/1 - 3s - loss: 0.0028 - accuracy: 1.0000 - val_loss: 0.0047 - val_accuracy: 1.0000 - 3s/epoch - 3s/step\n",
      "Epoch 143/250\n",
      "1/1 - 2s - loss: 0.0026 - accuracy: 1.0000 - val_loss: 0.0086 - val_accuracy: 1.0000 - 2s/epoch - 2s/step\n",
      "Epoch 144/250\n",
      "1/1 - 2s - loss: 0.0194 - accuracy: 0.9912 - val_loss: 8.2498e-04 - val_accuracy: 1.0000 - 2s/epoch - 2s/step\n",
      "Epoch 145/250\n",
      "1/1 - 2s - loss: 0.0021 - accuracy: 1.0000 - val_loss: 1.0865e-04 - val_accuracy: 1.0000 - 2s/epoch - 2s/step\n",
      "Epoch 146/250\n",
      "1/1 - 2s - loss: 0.0013 - accuracy: 1.0000 - val_loss: 3.5480e-05 - val_accuracy: 1.0000 - 2s/epoch - 2s/step\n",
      "Epoch 147/250\n",
      "1/1 - 2s - loss: 0.0019 - accuracy: 1.0000 - val_loss: 2.1257e-05 - val_accuracy: 1.0000 - 2s/epoch - 2s/step\n",
      "Epoch 148/250\n",
      "1/1 - 2s - loss: 0.0014 - accuracy: 1.0000 - val_loss: 1.6688e-05 - val_accuracy: 1.0000 - 2s/epoch - 2s/step\n",
      "Epoch 149/250\n",
      "1/1 - 2s - loss: 0.0017 - accuracy: 1.0000 - val_loss: 1.4980e-05 - val_accuracy: 1.0000 - 2s/epoch - 2s/step\n",
      "Epoch 150/250\n",
      "1/1 - 2s - loss: 0.0024 - accuracy: 1.0000 - val_loss: 1.3152e-05 - val_accuracy: 1.0000 - 2s/epoch - 2s/step\n",
      "Epoch 151/250\n",
      "1/1 - 2s - loss: 0.0254 - accuracy: 0.9956 - val_loss: 6.7452e-06 - val_accuracy: 1.0000 - 2s/epoch - 2s/step\n",
      "Epoch 152/250\n",
      "1/1 - 3s - loss: 0.0112 - accuracy: 0.9956 - val_loss: 1.6291e-05 - val_accuracy: 1.0000 - 3s/epoch - 3s/step\n",
      "Epoch 153/250\n",
      "1/1 - 2s - loss: 0.0026 - accuracy: 1.0000 - val_loss: 1.9068e-04 - val_accuracy: 1.0000 - 2s/epoch - 2s/step\n",
      "Epoch 154/250\n",
      "1/1 - 3s - loss: 0.0013 - accuracy: 1.0000 - val_loss: 0.0018 - val_accuracy: 1.0000 - 3s/epoch - 3s/step\n",
      "Epoch 155/250\n",
      "1/1 - 2s - loss: 0.0020 - accuracy: 1.0000 - val_loss: 0.0088 - val_accuracy: 1.0000 - 2s/epoch - 2s/step\n",
      "Epoch 156/250\n",
      "1/1 - 2s - loss: 0.0158 - accuracy: 0.9956 - val_loss: 0.0094 - val_accuracy: 1.0000 - 2s/epoch - 2s/step\n",
      "Epoch 157/250\n",
      "1/1 - 2s - loss: 0.0153 - accuracy: 0.9956 - val_loss: 0.0031 - val_accuracy: 1.0000 - 2s/epoch - 2s/step\n",
      "Epoch 158/250\n",
      "1/1 - 2s - loss: 0.0022 - accuracy: 1.0000 - val_loss: 0.0010 - val_accuracy: 1.0000 - 2s/epoch - 2s/step\n",
      "Epoch 159/250\n",
      "1/1 - 2s - loss: 9.1351e-04 - accuracy: 1.0000 - val_loss: 4.7481e-04 - val_accuracy: 1.0000 - 2s/epoch - 2s/step\n",
      "Epoch 160/250\n",
      "1/1 - 2s - loss: 8.6578e-04 - accuracy: 1.0000 - val_loss: 3.2631e-04 - val_accuracy: 1.0000 - 2s/epoch - 2s/step\n",
      "Epoch 161/250\n",
      "1/1 - 2s - loss: 0.0020 - accuracy: 1.0000 - val_loss: 2.4739e-04 - val_accuracy: 1.0000 - 2s/epoch - 2s/step\n",
      "Epoch 162/250\n",
      "1/1 - 2s - loss: 0.0124 - accuracy: 0.9956 - val_loss: 3.1051e-05 - val_accuracy: 1.0000 - 2s/epoch - 2s/step\n",
      "Epoch 163/250\n",
      "1/1 - 2s - loss: 0.0012 - accuracy: 1.0000 - val_loss: 1.3540e-05 - val_accuracy: 1.0000 - 2s/epoch - 2s/step\n",
      "Epoch 164/250\n",
      "1/1 - 2s - loss: 0.0092 - accuracy: 0.9956 - val_loss: 1.7960e-05 - val_accuracy: 1.0000 - 2s/epoch - 2s/step\n",
      "Epoch 165/250\n",
      "1/1 - 2s - loss: 0.0084 - accuracy: 0.9956 - val_loss: 1.2296e-04 - val_accuracy: 1.0000 - 2s/epoch - 2s/step\n",
      "Epoch 166/250\n",
      "1/1 - 2s - loss: 0.0143 - accuracy: 0.9956 - val_loss: 7.1811e-04 - val_accuracy: 1.0000 - 2s/epoch - 2s/step\n",
      "Epoch 167/250\n",
      "1/1 - 2s - loss: 0.0013 - accuracy: 1.0000 - val_loss: 0.0036 - val_accuracy: 1.0000 - 2s/epoch - 2s/step\n",
      "Epoch 168/250\n",
      "1/1 - 3s - loss: 0.0019 - accuracy: 1.0000 - val_loss: 0.0136 - val_accuracy: 1.0000 - 3s/epoch - 3s/step\n",
      "Epoch 169/250\n",
      "1/1 - 3s - loss: 0.0016 - accuracy: 1.0000 - val_loss: 0.0370 - val_accuracy: 1.0000 - 3s/epoch - 3s/step\n",
      "Epoch 170/250\n",
      "1/1 - 2s - loss: 0.0033 - accuracy: 1.0000 - val_loss: 0.0549 - val_accuracy: 1.0000 - 2s/epoch - 2s/step\n",
      "Epoch 171/250\n",
      "1/1 - 2s - loss: 0.0078 - accuracy: 0.9956 - val_loss: 0.0487 - val_accuracy: 1.0000 - 2s/epoch - 2s/step\n",
      "Epoch 172/250\n",
      "1/1 - 2s - loss: 0.0189 - accuracy: 0.9956 - val_loss: 0.0083 - val_accuracy: 1.0000 - 2s/epoch - 2s/step\n",
      "Epoch 173/250\n",
      "1/1 - 3s - loss: 0.0030 - accuracy: 1.0000 - val_loss: 0.0015 - val_accuracy: 1.0000 - 3s/epoch - 3s/step\n",
      "Epoch 174/250\n",
      "1/1 - 3s - loss: 0.0021 - accuracy: 1.0000 - val_loss: 3.0187e-04 - val_accuracy: 1.0000 - 3s/epoch - 3s/step\n",
      "Epoch 175/250\n",
      "1/1 - 3s - loss: 0.0028 - accuracy: 1.0000 - val_loss: 6.9575e-05 - val_accuracy: 1.0000 - 3s/epoch - 3s/step\n",
      "Epoch 176/250\n",
      "1/1 - 3s - loss: 0.0094 - accuracy: 0.9956 - val_loss: 2.5955e-05 - val_accuracy: 1.0000 - 3s/epoch - 3s/step\n",
      "Epoch 177/250\n",
      "1/1 - 3s - loss: 0.0023 - accuracy: 1.0000 - val_loss: 1.1116e-05 - val_accuracy: 1.0000 - 3s/epoch - 3s/step\n",
      "Epoch 178/250\n",
      "1/1 - 3s - loss: 0.0026 - accuracy: 1.0000 - val_loss: 5.6425e-06 - val_accuracy: 1.0000 - 3s/epoch - 3s/step\n",
      "Epoch 179/250\n",
      "1/1 - 3s - loss: 0.0092 - accuracy: 0.9956 - val_loss: 3.4372e-06 - val_accuracy: 1.0000 - 3s/epoch - 3s/step\n",
      "Epoch 180/250\n",
      "1/1 - 3s - loss: 0.0025 - accuracy: 1.0000 - val_loss: 2.5332e-06 - val_accuracy: 1.0000 - 3s/epoch - 3s/step\n",
      "Epoch 181/250\n",
      "1/1 - 3s - loss: 0.0031 - accuracy: 1.0000 - val_loss: 2.4736e-06 - val_accuracy: 1.0000 - 3s/epoch - 3s/step\n",
      "Epoch 182/250\n",
      "1/1 - 4s - loss: 5.4886e-04 - accuracy: 1.0000 - val_loss: 3.2981e-06 - val_accuracy: 1.0000 - 4s/epoch - 4s/step\n",
      "Epoch 183/250\n",
      "1/1 - 5s - loss: 5.9056e-04 - accuracy: 1.0000 - val_loss: 5.2451e-06 - val_accuracy: 1.0000 - 5s/epoch - 5s/step\n",
      "Epoch 184/250\n",
      "1/1 - 4s - loss: 0.0017 - accuracy: 1.0000 - val_loss: 8.6820e-06 - val_accuracy: 1.0000 - 4s/epoch - 4s/step\n",
      "Epoch 185/250\n",
      "1/1 - 5s - loss: 0.0180 - accuracy: 0.9956 - val_loss: 1.5546e-05 - val_accuracy: 1.0000 - 5s/epoch - 5s/step\n",
      "Epoch 186/250\n",
      "1/1 - 5s - loss: 0.0012 - accuracy: 1.0000 - val_loss: 2.8288e-05 - val_accuracy: 1.0000 - 5s/epoch - 5s/step\n",
      "Epoch 187/250\n",
      "1/1 - 4s - loss: 0.0026 - accuracy: 1.0000 - val_loss: 4.9718e-05 - val_accuracy: 1.0000 - 4s/epoch - 4s/step\n",
      "Epoch 188/250\n",
      "1/1 - 4s - loss: 0.0049 - accuracy: 0.9956 - val_loss: 2.4764e-05 - val_accuracy: 1.0000 - 4s/epoch - 4s/step\n",
      "Epoch 189/250\n",
      "1/1 - 3s - loss: 8.3630e-04 - accuracy: 1.0000 - val_loss: 2.0185e-05 - val_accuracy: 1.0000 - 3s/epoch - 3s/step\n",
      "Epoch 190/250\n",
      "1/1 - 3s - loss: 0.0059 - accuracy: 0.9956 - val_loss: 1.6957e-05 - val_accuracy: 1.0000 - 3s/epoch - 3s/step\n",
      "Epoch 191/250\n",
      "1/1 - 4s - loss: 0.0017 - accuracy: 1.0000 - val_loss: 1.6072e-05 - val_accuracy: 1.0000 - 4s/epoch - 4s/step\n",
      "Epoch 192/250\n",
      "1/1 - 4s - loss: 7.2506e-04 - accuracy: 1.0000 - val_loss: 1.5268e-05 - val_accuracy: 1.0000 - 4s/epoch - 4s/step\n",
      "Epoch 193/250\n",
      "1/1 - 4s - loss: 0.0068 - accuracy: 0.9956 - val_loss: 1.4414e-05 - val_accuracy: 1.0000 - 4s/epoch - 4s/step\n",
      "Epoch 194/250\n",
      "1/1 - 3s - loss: 0.0127 - accuracy: 0.9956 - val_loss: 6.7153e-06 - val_accuracy: 1.0000 - 3s/epoch - 3s/step\n",
      "Epoch 195/250\n",
      "1/1 - 2s - loss: 0.0048 - accuracy: 1.0000 - val_loss: 3.8643e-06 - val_accuracy: 1.0000 - 2s/epoch - 2s/step\n",
      "Epoch 196/250\n",
      "1/1 - 2s - loss: 0.0309 - accuracy: 0.9956 - val_loss: 3.6160e-06 - val_accuracy: 1.0000 - 2s/epoch - 2s/step\n",
      "Epoch 197/250\n",
      "1/1 - 2s - loss: 0.0015 - accuracy: 1.0000 - val_loss: 4.4207e-06 - val_accuracy: 1.0000 - 2s/epoch - 2s/step\n",
      "Epoch 198/250\n",
      "1/1 - 3s - loss: 0.0101 - accuracy: 0.9912 - val_loss: 7.6095e-06 - val_accuracy: 1.0000 - 3s/epoch - 3s/step\n",
      "Epoch 199/250\n",
      "1/1 - 3s - loss: 0.0064 - accuracy: 1.0000 - val_loss: 1.0788e-05 - val_accuracy: 1.0000 - 3s/epoch - 3s/step\n",
      "Epoch 200/250\n",
      "1/1 - 3s - loss: 0.0013 - accuracy: 1.0000 - val_loss: 1.3401e-05 - val_accuracy: 1.0000 - 3s/epoch - 3s/step\n",
      "Epoch 201/250\n",
      "1/1 - 3s - loss: 0.0111 - accuracy: 0.9956 - val_loss: 9.4671e-06 - val_accuracy: 1.0000 - 3s/epoch - 3s/step\n",
      "Epoch 202/250\n",
      "1/1 - 3s - loss: 0.0018 - accuracy: 1.0000 - val_loss: 7.8578e-06 - val_accuracy: 1.0000 - 3s/epoch - 3s/step\n",
      "Epoch 203/250\n",
      "1/1 - 2s - loss: 0.0048 - accuracy: 1.0000 - val_loss: 7.5498e-06 - val_accuracy: 1.0000 - 2s/epoch - 2s/step\n",
      "Epoch 204/250\n",
      "1/1 - 2s - loss: 0.0026 - accuracy: 1.0000 - val_loss: 8.6425e-06 - val_accuracy: 1.0000 - 2s/epoch - 2s/step\n",
      "Epoch 205/250\n",
      "1/1 - 2s - loss: 4.2207e-04 - accuracy: 1.0000 - val_loss: 1.0738e-05 - val_accuracy: 1.0000 - 2s/epoch - 2s/step\n",
      "Epoch 206/250\n",
      "1/1 - 2s - loss: 6.6405e-04 - accuracy: 1.0000 - val_loss: 1.3887e-05 - val_accuracy: 1.0000 - 2s/epoch - 2s/step\n",
      "Epoch 207/250\n",
      "1/1 - 2s - loss: 0.0020 - accuracy: 1.0000 - val_loss: 1.8238e-05 - val_accuracy: 1.0000 - 2s/epoch - 2s/step\n",
      "Epoch 208/250\n",
      "1/1 - 2s - loss: 0.0020 - accuracy: 1.0000 - val_loss: 2.4783e-05 - val_accuracy: 1.0000 - 2s/epoch - 2s/step\n",
      "Epoch 209/250\n",
      "1/1 - 2s - loss: 0.0020 - accuracy: 1.0000 - val_loss: 3.3542e-05 - val_accuracy: 1.0000 - 2s/epoch - 2s/step\n",
      "Epoch 210/250\n",
      "1/1 - 2s - loss: 3.8114e-04 - accuracy: 1.0000 - val_loss: 4.6084e-05 - val_accuracy: 1.0000 - 2s/epoch - 2s/step\n",
      "Epoch 211/250\n",
      "1/1 - 2s - loss: 5.2970e-04 - accuracy: 1.0000 - val_loss: 6.1602e-05 - val_accuracy: 1.0000 - 2s/epoch - 2s/step\n",
      "Epoch 212/250\n",
      "1/1 - 2s - loss: 0.0019 - accuracy: 1.0000 - val_loss: 7.9092e-05 - val_accuracy: 1.0000 - 2s/epoch - 2s/step\n",
      "Epoch 213/250\n",
      "1/1 - 3s - loss: 5.9935e-04 - accuracy: 1.0000 - val_loss: 1.0021e-04 - val_accuracy: 1.0000 - 3s/epoch - 3s/step\n",
      "Epoch 214/250\n",
      "1/1 - 2s - loss: 3.4775e-04 - accuracy: 1.0000 - val_loss: 1.2577e-04 - val_accuracy: 1.0000 - 2s/epoch - 2s/step\n",
      "Epoch 215/250\n",
      "1/1 - 3s - loss: 8.1297e-04 - accuracy: 1.0000 - val_loss: 1.4881e-04 - val_accuracy: 1.0000 - 3s/epoch - 3s/step\n",
      "Epoch 216/250\n",
      "1/1 - 2s - loss: 2.3280e-04 - accuracy: 1.0000 - val_loss: 1.7406e-04 - val_accuracy: 1.0000 - 2s/epoch - 2s/step\n",
      "Epoch 217/250\n",
      "1/1 - 3s - loss: 0.0018 - accuracy: 1.0000 - val_loss: 2.0842e-04 - val_accuracy: 1.0000 - 3s/epoch - 3s/step\n",
      "Epoch 218/250\n",
      "1/1 - 2s - loss: 7.8043e-04 - accuracy: 1.0000 - val_loss: 2.3941e-04 - val_accuracy: 1.0000 - 2s/epoch - 2s/step\n",
      "Epoch 219/250\n",
      "1/1 - 2s - loss: 2.7472e-04 - accuracy: 1.0000 - val_loss: 2.6800e-04 - val_accuracy: 1.0000 - 2s/epoch - 2s/step\n",
      "Epoch 220/250\n",
      "1/1 - 2s - loss: 0.0038 - accuracy: 1.0000 - val_loss: 1.7176e-04 - val_accuracy: 1.0000 - 2s/epoch - 2s/step\n",
      "Epoch 221/250\n",
      "1/1 - 2s - loss: 0.0030 - accuracy: 1.0000 - val_loss: 1.1299e-04 - val_accuracy: 1.0000 - 2s/epoch - 2s/step\n",
      "Epoch 222/250\n",
      "1/1 - 2s - loss: 4.7236e-04 - accuracy: 1.0000 - val_loss: 8.2515e-05 - val_accuracy: 1.0000 - 2s/epoch - 2s/step\n",
      "Epoch 223/250\n",
      "1/1 - 2s - loss: 2.0718e-04 - accuracy: 1.0000 - val_loss: 6.3953e-05 - val_accuracy: 1.0000 - 2s/epoch - 2s/step\n",
      "Epoch 224/250\n",
      "1/1 - 3s - loss: 0.0012 - accuracy: 1.0000 - val_loss: 4.9568e-05 - val_accuracy: 1.0000 - 3s/epoch - 3s/step\n",
      "Epoch 225/250\n",
      "1/1 - 2s - loss: 7.9393e-04 - accuracy: 1.0000 - val_loss: 3.9380e-05 - val_accuracy: 1.0000 - 2s/epoch - 2s/step\n",
      "Epoch 226/250\n",
      "1/1 - 2s - loss: 3.9178e-04 - accuracy: 1.0000 - val_loss: 3.1893e-05 - val_accuracy: 1.0000 - 2s/epoch - 2s/step\n",
      "Epoch 227/250\n",
      "1/1 - 2s - loss: 2.3594e-04 - accuracy: 1.0000 - val_loss: 2.5130e-05 - val_accuracy: 1.0000 - 2s/epoch - 2s/step\n",
      "Epoch 228/250\n",
      "1/1 - 2s - loss: 5.9449e-04 - accuracy: 1.0000 - val_loss: 1.9290e-05 - val_accuracy: 1.0000 - 2s/epoch - 2s/step\n",
      "Epoch 229/250\n",
      "1/1 - 2s - loss: 7.2842e-04 - accuracy: 1.0000 - val_loss: 1.3579e-05 - val_accuracy: 1.0000 - 2s/epoch - 2s/step\n",
      "Epoch 230/250\n",
      "1/1 - 2s - loss: 9.8934e-05 - accuracy: 1.0000 - val_loss: 9.9237e-06 - val_accuracy: 1.0000 - 2s/epoch - 2s/step\n",
      "Epoch 231/250\n",
      "1/1 - 2s - loss: 0.0070 - accuracy: 0.9956 - val_loss: 5.9801e-06 - val_accuracy: 1.0000 - 2s/epoch - 2s/step\n",
      "Epoch 232/250\n",
      "1/1 - 2s - loss: 2.0904e-04 - accuracy: 1.0000 - val_loss: 3.8941e-06 - val_accuracy: 1.0000 - 2s/epoch - 2s/step\n",
      "Epoch 233/250\n",
      "1/1 - 2s - loss: 1.4985e-04 - accuracy: 1.0000 - val_loss: 2.7418e-06 - val_accuracy: 1.0000 - 2s/epoch - 2s/step\n",
      "Epoch 234/250\n",
      "1/1 - 3s - loss: 1.9558e-04 - accuracy: 1.0000 - val_loss: 2.1060e-06 - val_accuracy: 1.0000 - 3s/epoch - 3s/step\n",
      "Epoch 235/250\n",
      "1/1 - 3s - loss: 0.0014 - accuracy: 1.0000 - val_loss: 1.7981e-06 - val_accuracy: 1.0000 - 3s/epoch - 3s/step\n",
      "Epoch 236/250\n",
      "1/1 - 3s - loss: 3.7774e-04 - accuracy: 1.0000 - val_loss: 1.8080e-06 - val_accuracy: 1.0000 - 3s/epoch - 3s/step\n",
      "Epoch 237/250\n",
      "1/1 - 3s - loss: 4.1843e-04 - accuracy: 1.0000 - val_loss: 2.2352e-06 - val_accuracy: 1.0000 - 3s/epoch - 3s/step\n",
      "Epoch 238/250\n",
      "1/1 - 3s - loss: 2.0033e-04 - accuracy: 1.0000 - val_loss: 3.6160e-06 - val_accuracy: 1.0000 - 3s/epoch - 3s/step\n",
      "Epoch 239/250\n",
      "1/1 - 3s - loss: 3.0123e-04 - accuracy: 1.0000 - val_loss: 7.3113e-06 - val_accuracy: 1.0000 - 3s/epoch - 3s/step\n",
      "Epoch 240/250\n",
      "1/1 - 3s - loss: 0.0018 - accuracy: 1.0000 - val_loss: 1.5754e-05 - val_accuracy: 1.0000 - 3s/epoch - 3s/step\n",
      "Epoch 241/250\n",
      "1/1 - 3s - loss: 0.0074 - accuracy: 0.9956 - val_loss: 7.3311e-06 - val_accuracy: 1.0000 - 3s/epoch - 3s/step\n",
      "Epoch 242/250\n",
      "1/1 - 5s - loss: 2.5451e-04 - accuracy: 1.0000 - val_loss: 4.0531e-06 - val_accuracy: 1.0000 - 5s/epoch - 5s/step\n",
      "Epoch 243/250\n",
      "1/1 - 4s - loss: 2.1736e-04 - accuracy: 1.0000 - val_loss: 2.5431e-06 - val_accuracy: 1.0000 - 4s/epoch - 4s/step\n",
      "Epoch 244/250\n",
      "1/1 - 6s - loss: 1.8804e-04 - accuracy: 1.0000 - val_loss: 1.8378e-06 - val_accuracy: 1.0000 - 6s/epoch - 6s/step\n",
      "Epoch 245/250\n",
      "1/1 - 5s - loss: 6.1204e-04 - accuracy: 1.0000 - val_loss: 1.3411e-06 - val_accuracy: 1.0000 - 5s/epoch - 5s/step\n",
      "Epoch 246/250\n",
      "1/1 - 5s - loss: 1.6317e-04 - accuracy: 1.0000 - val_loss: 1.0530e-06 - val_accuracy: 1.0000 - 5s/epoch - 5s/step\n",
      "Epoch 247/250\n",
      "1/1 - 4s - loss: 5.5383e-04 - accuracy: 1.0000 - val_loss: 8.7420e-07 - val_accuracy: 1.0000 - 4s/epoch - 4s/step\n",
      "Epoch 248/250\n",
      "1/1 - 4s - loss: 7.4009e-04 - accuracy: 1.0000 - val_loss: 7.6493e-07 - val_accuracy: 1.0000 - 4s/epoch - 4s/step\n",
      "Epoch 249/250\n",
      "1/1 - 4s - loss: 1.3918e-04 - accuracy: 1.0000 - val_loss: 7.0532e-07 - val_accuracy: 1.0000 - 4s/epoch - 4s/step\n",
      "Epoch 250/250\n",
      "1/1 - 4s - loss: 1.4805e-04 - accuracy: 1.0000 - val_loss: 6.6558e-07 - val_accuracy: 1.0000 - 4s/epoch - 4s/step\n"
     ]
    }
   ],
   "source": [
    "history=cnn_model.fit(\n",
    "    np.array(x_train), np.array(y_train), batch_size=512,\n",
    "    epochs=250, verbose=2,\n",
    "    validation_data=(np.array(x_valid),np.array(y_valid)),)"
   ]
  },
  {
   "cell_type": "code",
   "execution_count": 9,
   "metadata": {},
   "outputs": [
    {
     "name": "stdout",
     "output_type": "stream",
     "text": [
      "test accuracy= 0.9375\n"
     ]
    }
   ],
   "source": [
    "score = cnn_model.evaluate( np.array(x_test),  np.array(y_test), verbose=0)\n",
    "print('test accuracy=',(score[1]))"
   ]
  },
  {
   "cell_type": "code",
   "execution_count": 10,
   "metadata": {},
   "outputs": [
    {
     "name": "stdout",
     "output_type": "stream",
     "text": [
      "dict_keys(['loss', 'accuracy', 'val_loss', 'val_accuracy'])\n"
     ]
    }
   ],
   "source": [
    "print(history.history.keys())"
   ]
  },
  {
   "cell_type": "code",
   "execution_count": 11,
   "metadata": {},
   "outputs": [
    {
     "data": {
      "image/png": "[encoded data removed]",
      "text/plain": [
       "<Figure size 640x480 with 1 Axes>"
      ]
     },
     "metadata": {},
     "output_type": "display_data"
    }
   ],
   "source": [
    "plt.plot(history.history['accuracy'])\n",
    "plt.plot(history.history['val_accuracy'])\n",
    "plt.title('model accuracy')\n",
    "plt.ylabel('accuracy')\n",
    "plt.xlabel('epoch')\n",
    "plt.legend(['train', 'test'], loc='upper left')\n",
    "plt.show()"
   ]
  },
  {
   "cell_type": "code",
   "execution_count": 12,
   "metadata": {},
   "outputs": [
    {
     "data": {
      "image/png": "[encoded data removed]",
      "text/plain": [
       "<Figure size 640x480 with 1 Axes>"
      ]
     },
     "metadata": {},
     "output_type": "display_data"
    }
   ],
   "source": [
    "plt.plot(history.history['loss'])\n",
    "plt.plot(history.history['val_loss'])\n",
    "plt.title('model loss')\n",
    "plt.ylabel('loss')\n",
    "plt.xlabel('epoch')\n",
    "plt.legend(['train', 'test'], loc='upper left')\n",
    "plt.show()"
   ]
  },
  {
   "cell_type": "code",
   "execution_count": 13,
   "metadata": {},
   "outputs": [
    {
     "name": "stdout",
     "output_type": "stream",
     "text": [
      "5/5 [==============================] - 1s 84ms/step\n",
      "[ 0  0  0  0  0  0  0  0  1  1  1  1  1  1  1  1  2  2  2  2  2  2  2  2\n",
      "  3  3  3  3  3  3  3  3  4  8  4 17  4  8  4 17  5  5  5  5  5  5  5  5\n",
      "  6  6  6  6  6  6  6  6  7  7  7  7  7  7  7  7  8  8  8  8  8  8  8  8\n",
      "  9  9  9  7  9  9  9  7 10 10 10 10 10 10 10 10 11 11 11 11 11 11 11 11\n",
      " 12 12 12 12 12 12 12 12 13 13 13 13 13 13 13 13 14 14 14 14 14 14 14 14\n",
      "  0 15 15 15  0 15 15 15 16 16 16 16 16 16 16 16 17 17 17 17 17 17 17 17\n",
      " 18 18  7 18 18 18  7 18 19 19 19 19 19 19 19 19]\n"
     ]
    }
   ],
   "source": [
    "predicted =np.argmax(cnn_model.predict(x_test), axis=-1)\n",
    "print(predicted)"
   ]
  },
  {
   "cell_type": "code",
   "execution_count": 14,
   "metadata": {},
   "outputs": [
    {
     "name": "stdout",
     "output_type": "stream",
     "text": [
      "[ 0  0  0  0  0  0  0  0  1  1  1  1  1  1  1  1  2  2  2  2  2  2  2  2\n",
      "  3  3  3  3  3  3  3  3  4  4  4  4  4  4  4  4  5  5  5  5  5  5  5  5\n",
      "  6  6  6  6  6  6  6  6  7  7  7  7  7  7  7  7  8  8  8  8  8  8  8  8\n",
      "  9  9  9  9  9  9  9  9 10 10 10 10 10 10 10 10 11 11 11 11 11 11 11 11\n",
      " 12 12 12 12 12 12 12 12 13 13 13 13 13 13 13 13 14 14 14 14 14 14 14 14\n",
      " 15 15 15 15 15 15 15 15 16 16 16 16 16 16 16 16 17 17 17 17 17 17 17 17\n",
      " 18 18 18 18 18 18 18 18 19 19 19 19 19 19 19 19]\n"
     ]
    }
   ],
   "source": [
    "print(y_test)"
   ]
  },
  {
   "cell_type": "code",
   "execution_count": 15,
   "metadata": {},
   "outputs": [
    {
     "name": "stdout",
     "output_type": "stream",
     "text": [
      "5/5 [==============================] - 1s 118ms/step\n"
     ]
    }
   ],
   "source": [
    "y_probabilities = cnn_model.predict(np.array(x_test))\n",
    "y_predicted_classes = np.argmax(y_probabilities, axis=1)"
   ]
  },
  {
   "cell_type": "code",
   "execution_count": 16,
   "metadata": {},
   "outputs": [
    {
     "name": "stdout",
     "output_type": "stream",
     "text": [
      "accuracy : \n",
      "0.9375\n"
     ]
    }
   ],
   "source": [
    "Acc=accuracy_score(y_test, y_predicted_classes)\n",
    "print(\"accuracy : \")\n",
    "print(Acc)"
   ]
  },
  {
   "cell_type": "code",
   "execution_count": 17,
   "metadata": {},
   "outputs": [],
   "source": [
    "cnf_matrix=confusion_matrix(np.array(y_test), y_predicted_classes)"
   ]
  },
  {
   "cell_type": "code",
   "execution_count": 18,
   "metadata": {},
   "outputs": [],
   "source": [
    "def plot_confusion_matrix(cm, classes,\n",
    "                          normalize=False,\n",
    "                          title='Confusion matrix',\n",
    "                          cmap=plt.cm.Blues):\n",
    "    if normalize:\n",
    "        cm = cm.astype('float') / cm.sum(axis=1)[:, np.newaxis]\n",
    "        print(\"Normalized confusion matrix\")\n",
    "    else:\n",
    "        print('Confusion matrix, without normalization')\n",
    "    print(cm)\n",
    "    plt.imshow(cm, interpolation='nearest', cmap=cmap)\n",
    "    plt.title(title)\n",
    "    plt.colorbar()\n",
    "    tick_marks = np.arange(len(classes))\n",
    "    plt.xticks(tick_marks, classes, rotation=45)\n",
    "    plt.yticks(tick_marks, classes)\n",
    "    fmt = '.2f' if normalize else 'd'\n",
    "    thresh = cm.max() / 2.\n",
    "    for i, j in itertools.product(range(cm.shape[0]), range(cm.shape[1])):\n",
    "        plt.text(j, i, format(cm[i, j], fmt),\n",
    "                 horizontalalignment=\"center\",\n",
    "                 color=\"white\" if cm[i, j] > thresh else \"black\")\n",
    "    plt.tight_layout()\n",
    "    plt.ylabel('True label')\n",
    "    plt.xlabel('Predicted label')\n",
    "    plt.show()"
   ]
  },
  {
   "cell_type": "code",
   "execution_count": 19,
   "metadata": {},
   "outputs": [
    {
     "name": "stdout",
     "output_type": "stream",
     "text": [
      "Confusion matrix, without normalization\n",
      "[[8 0 0 0 0 0 0 0 0 0 0 0 0 0 0 0 0 0 0 0]\n",
      " [0 8 0 0 0 0 0 0 0 0 0 0 0 0 0 0 0 0 0 0]\n",
      " [0 0 8 0 0 0 0 0 0 0 0 0 0 0 0 0 0 0 0 0]\n",
      " [0 0 0 8 0 0 0 0 0 0 0 0 0 0 0 0 0 0 0 0]\n",
      " [0 0 0 0 4 0 0 0 2 0 0 0 0 0 0 0 0 2 0 0]\n",
      " [0 0 0 0 0 8 0 0 0 0 0 0 0 0 0 0 0 0 0 0]\n",
      " [0 0 0 0 0 0 8 0 0 0 0 0 0 0 0 0 0 0 0 0]\n",
      " [0 0 0 0 0 0 0 8 0 0 0 0 0 0 0 0 0 0 0 0]\n",
      " [0 0 0 0 0 0 0 0 8 0 0 0 0 0 0 0 0 0 0 0]\n",
      " [0 0 0 0 0 0 0 2 0 6 0 0 0 0 0 0 0 0 0 0]\n",
      " [0 0 0 0 0 0 0 0 0 0 8 0 0 0 0 0 0 0 0 0]\n",
      " [0 0 0 0 0 0 0 0 0 0 0 8 0 0 0 0 0 0 0 0]\n",
      " [0 0 0 0 0 0 0 0 0 0 0 0 8 0 0 0 0 0 0 0]\n",
      " [0 0 0 0 0 0 0 0 0 0 0 0 0 8 0 0 0 0 0 0]\n",
      " [0 0 0 0 0 0 0 0 0 0 0 0 0 0 8 0 0 0 0 0]\n",
      " [2 0 0 0 0 0 0 0 0 0 0 0 0 0 0 6 0 0 0 0]\n",
      " [0 0 0 0 0 0 0 0 0 0 0 0 0 0 0 0 8 0 0 0]\n",
      " [0 0 0 0 0 0 0 0 0 0 0 0 0 0 0 0 0 8 0 0]\n",
      " [0 0 0 0 0 0 0 2 0 0 0 0 0 0 0 0 0 0 6 0]\n",
      " [0 0 0 0 0 0 0 0 0 0 0 0 0 0 0 0 0 0 0 8]]\n"
     ]
    }
   ],
   "source": [
    "print('Confusion matrix, without normalization')\n",
    "print(cnf_matrix)"
   ]
  },
  {
   "cell_type": "code",
   "execution_count": 20,
   "metadata": {},
   "outputs": [
    {
     "name": "stdout",
     "output_type": "stream",
     "text": [
      "Confusion matrix, without normalization\n",
      "[[8 0 0 0 0 0 0 0 0]\n",
      " [0 8 0 0 0 0 0 0 0]\n",
      " [0 0 8 0 0 0 0 0 0]\n",
      " [0 0 0 4 0 0 0 2 0]\n",
      " [0 0 0 0 8 0 0 0 0]\n",
      " [0 0 0 0 0 8 0 0 0]\n",
      " [0 0 0 0 0 0 8 0 0]\n",
      " [0 0 0 0 0 0 0 8 0]\n",
      " [0 0 0 0 0 0 2 0 6]]\n"
     ]
    },
    {
     "data": {
      "image/png": "[encoded data removed]",
      "text/plain": [
       "<Figure size 640x480 with 2 Axes>"
      ]
     },
     "metadata": {},
     "output_type": "display_data"
    }
   ],
   "source": [
    "plt.figure()\n",
    "plot_confusion_matrix(cnf_matrix[1:10,1:10], classes=[0,1,2,3,4,5,6,7,8,9],\n",
    "                      title='Confusion matrix, without normalization')"
   ]
  },
  {
   "cell_type": "code",
   "execution_count": 21,
   "metadata": {},
   "outputs": [
    {
     "name": "stdout",
     "output_type": "stream",
     "text": [
      "Confusion matrix, without normalization\n",
      "[[8 0 0 0 0 0 0 0 0]\n",
      " [0 8 0 0 0 0 0 0 0]\n",
      " [0 0 8 0 0 0 0 0 0]\n",
      " [0 0 0 8 0 0 0 0 0]\n",
      " [0 0 0 0 6 0 0 0 0]\n",
      " [0 0 0 0 0 8 0 0 0]\n",
      " [0 0 0 0 0 0 8 0 0]\n",
      " [0 0 0 0 0 0 0 6 0]\n",
      " [0 0 0 0 0 0 0 0 8]]\n"
     ]
    },
    {
     "data": {
      "image/png": "[encoded data removed]",
      "text/plain": [
       "<Figure size 640x480 with 2 Axes>"
      ]
     },
     "metadata": {},
     "output_type": "display_data"
    }
   ],
   "source": [
    "plt.figure()\n",
    "plot_confusion_matrix(cnf_matrix[11:20,11:20], classes=[10,11,12,13,14,15,16,17,18,19],\n",
    "                      title='Confusion matrix, with normalization')"
   ]
  },
  {
   "cell_type": "code",
   "execution_count": 22,
   "metadata": {},
   "outputs": [
    {
     "name": "stdout",
     "output_type": "stream",
     "text": [
      "Confusion matrix:\n",
      "[[8 0 0 0 0 0 0 0 0 0 0 0 0 0 0 0 0 0 0 0]\n",
      " [0 8 0 0 0 0 0 0 0 0 0 0 0 0 0 0 0 0 0 0]\n",
      " [0 0 8 0 0 0 0 0 0 0 0 0 0 0 0 0 0 0 0 0]\n",
      " [0 0 0 8 0 0 0 0 0 0 0 0 0 0 0 0 0 0 0 0]\n",
      " [0 0 0 0 4 0 0 0 2 0 0 0 0 0 0 0 0 2 0 0]\n",
      " [0 0 0 0 0 8 0 0 0 0 0 0 0 0 0 0 0 0 0 0]\n",
      " [0 0 0 0 0 0 8 0 0 0 0 0 0 0 0 0 0 0 0 0]\n",
      " [0 0 0 0 0 0 0 8 0 0 0 0 0 0 0 0 0 0 0 0]\n",
      " [0 0 0 0 0 0 0 0 8 0 0 0 0 0 0 0 0 0 0 0]\n",
      " [0 0 0 0 0 0 0 2 0 6 0 0 0 0 0 0 0 0 0 0]\n",
      " [0 0 0 0 0 0 0 0 0 0 8 0 0 0 0 0 0 0 0 0]\n",
      " [0 0 0 0 0 0 0 0 0 0 0 8 0 0 0 0 0 0 0 0]\n",
      " [0 0 0 0 0 0 0 0 0 0 0 0 8 0 0 0 0 0 0 0]\n",
      " [0 0 0 0 0 0 0 0 0 0 0 0 0 8 0 0 0 0 0 0]\n",
      " [0 0 0 0 0 0 0 0 0 0 0 0 0 0 8 0 0 0 0 0]\n",
      " [2 0 0 0 0 0 0 0 0 0 0 0 0 0 0 6 0 0 0 0]\n",
      " [0 0 0 0 0 0 0 0 0 0 0 0 0 0 0 0 8 0 0 0]\n",
      " [0 0 0 0 0 0 0 0 0 0 0 0 0 0 0 0 0 8 0 0]\n",
      " [0 0 0 0 0 0 0 2 0 0 0 0 0 0 0 0 0 0 6 0]\n",
      " [0 0 0 0 0 0 0 0 0 0 0 0 0 0 0 0 0 0 0 8]]\n"
     ]
    }
   ],
   "source": [
    "print(\"Confusion matrix:\\n%s\" % confusion_matrix(np.array(y_test), y_predicted_classes))"
   ]
  },
  {
   "cell_type": "code",
   "execution_count": null,
   "metadata": {},
   "outputs": [],
   "source": []
  }
 ],
 "metadata": {
  "kernelspec": {
   "display_name": "Python 3",
   "language": "python",
   "name": "python3"
  },
  "language_info": {
   "codemirror_mode": {
    "name": "ipython",
    "version": 3
   },
   "file_extension": ".py",
   "mimetype": "text/x-python",
   "name": "python",
   "nbconvert_exporter": "python",
   "pygments_lexer": "ipython3",
   "version": "3.11.7"
  }
 },
 "nbformat": 4,
 "nbformat_minor": 2
}
